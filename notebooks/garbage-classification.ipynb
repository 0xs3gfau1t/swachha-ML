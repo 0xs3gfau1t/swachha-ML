{
 "cells": [
  {
   "cell_type": "markdown",
   "id": "76f9af40-2454-4c68-b3fe-77ed2c4e5da1",
   "metadata": {},
   "source": [
    "# Garbage Classification using CNN Architecture\n",
    "- Classify garbage into organic and reclyclable types with a aim to assis people in managing household waste more smartly."
   ]
  },
  {
   "cell_type": "code",
   "execution_count": 1,
   "id": "2e9c96a3",
   "metadata": {
    "_cell_guid": "b1076dfc-b9ad-4769-8c92-a6c4dae69d19",
    "_uuid": "8f2839f25d086af736a60e9eeb907d3b93b6e0e5",
    "execution": {
     "iopub.execute_input": "2024-01-19T13:42:47.276978Z",
     "iopub.status.busy": "2024-01-19T13:42:47.276707Z",
     "iopub.status.idle": "2024-01-19T13:42:51.539841Z",
     "shell.execute_reply": "2024-01-19T13:42:51.538894Z"
    },
    "papermill": {
     "duration": 4.272315,
     "end_time": "2024-01-19T13:42:51.542601",
     "exception": false,
     "start_time": "2024-01-19T13:42:47.270286",
     "status": "completed"
    },
    "tags": []
   },
   "outputs": [],
   "source": [
    "#Import necesssary libraries\n",
    "import os\n",
    "import random\n",
    "import torch\n",
    "from torch import nn\n",
    "from torchvision.io import read_image\n",
    "from torch.utils.data import Dataset, DataLoader\n",
    "from torchvision import transforms, models\n",
    "from torchvision.datasets import ImageFolder\n",
    "import torch.optim as optim\n",
    "from matplotlib import pyplot as plt\n",
    "import pandas as pd\n",
    "import numpy as np\n",
    "from datetime import datetime\n",
    "from tqdm import tqdm"
   ]
  },
  {
   "cell_type": "code",
   "execution_count": 2,
   "id": "39a7c0fa",
   "metadata": {
    "execution": {
     "iopub.execute_input": "2024-01-19T13:42:51.555645Z",
     "iopub.status.busy": "2024-01-19T13:42:51.554677Z",
     "iopub.status.idle": "2024-01-19T13:42:51.560204Z",
     "shell.execute_reply": "2024-01-19T13:42:51.559310Z"
    },
    "papermill": {
     "duration": 0.014122,
     "end_time": "2024-01-19T13:42:51.562512",
     "exception": false,
     "start_time": "2024-01-19T13:42:51.548390",
     "status": "completed"
    },
    "tags": []
   },
   "outputs": [],
   "source": [
    "#paths for train and validation image directories\n",
    "TRAIN_DIR = \"/kaggle/input/waste-classification-data/DATASET/TRAIN/\"\n",
    "TEST_DIR = \"/kaggle/input/waste-classification-data/DATASET/TEST\""
   ]
  },
  {
   "cell_type": "code",
   "execution_count": 3,
   "id": "080bae44",
   "metadata": {
    "execution": {
     "iopub.execute_input": "2024-01-19T13:42:51.578167Z",
     "iopub.status.busy": "2024-01-19T13:42:51.577199Z",
     "iopub.status.idle": "2024-01-19T13:42:51.584137Z",
     "shell.execute_reply": "2024-01-19T13:42:51.583391Z"
    },
    "papermill": {
     "duration": 0.016322,
     "end_time": "2024-01-19T13:42:51.585925",
     "exception": false,
     "start_time": "2024-01-19T13:42:51.569603",
     "status": "completed"
    },
    "tags": []
   },
   "outputs": [],
   "source": [
    "# define fixed images size\n",
    "IMG_SIZE = (384, 384)"
   ]
  },
  {
   "cell_type": "code",
   "execution_count": 4,
   "id": "d2fc7bd2",
   "metadata": {
    "execution": {
     "iopub.execute_input": "2024-01-19T13:42:51.597034Z",
     "iopub.status.busy": "2024-01-19T13:42:51.596764Z",
     "iopub.status.idle": "2024-01-19T13:42:51.600985Z",
     "shell.execute_reply": "2024-01-19T13:42:51.600183Z"
    },
    "papermill": {
     "duration": 0.011852,
     "end_time": "2024-01-19T13:42:51.602901",
     "exception": false,
     "start_time": "2024-01-19T13:42:51.591049",
     "status": "completed"
    },
    "tags": []
   },
   "outputs": [],
   "source": [
    "# define image transformation function\n",
    "transform = transforms.Compose([\n",
    "    transforms.Resize(IMG_SIZE,antialias=True),\n",
    "    transforms.ToTensor(),\n",
    "])"
   ]
  },
  {
   "cell_type": "code",
   "execution_count": 5,
   "id": "d28c009c",
   "metadata": {
    "execution": {
     "iopub.execute_input": "2024-01-19T13:42:51.613920Z",
     "iopub.status.busy": "2024-01-19T13:42:51.613674Z",
     "iopub.status.idle": "2024-01-19T13:43:06.856735Z",
     "shell.execute_reply": "2024-01-19T13:43:06.855717Z"
    },
    "papermill": {
     "duration": 15.251335,
     "end_time": "2024-01-19T13:43:06.859162",
     "exception": false,
     "start_time": "2024-01-19T13:42:51.607827",
     "status": "completed"
    },
    "tags": []
   },
   "outputs": [],
   "source": [
    "# create pytorch dataset using Image folder (each folder belongs to a class)\n",
    "train_ds = ImageFolder(TRAIN_DIR,transform)\n",
    "test_ds = ImageFolder(TEST_DIR,transform)"
   ]
  },
  {
   "cell_type": "code",
   "execution_count": 6,
   "id": "29cb46f6",
   "metadata": {
    "execution": {
     "iopub.execute_input": "2024-01-19T13:43:06.871325Z",
     "iopub.status.busy": "2024-01-19T13:43:06.870998Z",
     "iopub.status.idle": "2024-01-19T13:43:06.877353Z",
     "shell.execute_reply": "2024-01-19T13:43:06.876547Z"
    },
    "papermill": {
     "duration": 0.014569,
     "end_time": "2024-01-19T13:43:06.879296",
     "exception": false,
     "start_time": "2024-01-19T13:43:06.864727",
     "status": "completed"
    },
    "tags": []
   },
   "outputs": [
    {
     "data": {
      "text/plain": [
       "['O', 'R']"
      ]
     },
     "execution_count": 6,
     "metadata": {},
     "output_type": "execute_result"
    }
   ],
   "source": [
    "# get list of classes present in our dataset\n",
    "cs = train_ds.classes\n",
    "cs"
   ]
  },
  {
   "cell_type": "code",
   "execution_count": 7,
   "id": "00795c42",
   "metadata": {
    "execution": {
     "iopub.execute_input": "2024-01-19T13:43:06.890901Z",
     "iopub.status.busy": "2024-01-19T13:43:06.890615Z",
     "iopub.status.idle": "2024-01-19T13:43:06.894460Z",
     "shell.execute_reply": "2024-01-19T13:43:06.893631Z"
    },
    "papermill": {
     "duration": 0.011691,
     "end_time": "2024-01-19T13:43:06.896353",
     "exception": false,
     "start_time": "2024-01-19T13:43:06.884662",
     "status": "completed"
    },
    "tags": []
   },
   "outputs": [],
   "source": [
    "BATCH_SIZE = 32"
   ]
  },
  {
   "cell_type": "code",
   "execution_count": 8,
   "id": "1d515cdb",
   "metadata": {
    "execution": {
     "iopub.execute_input": "2024-01-19T13:43:06.907638Z",
     "iopub.status.busy": "2024-01-19T13:43:06.907334Z",
     "iopub.status.idle": "2024-01-19T13:43:07.005949Z",
     "shell.execute_reply": "2024-01-19T13:43:07.005124Z"
    },
    "papermill": {
     "duration": 0.106474,
     "end_time": "2024-01-19T13:43:07.008033",
     "exception": false,
     "start_time": "2024-01-19T13:43:06.901559",
     "status": "completed"
    },
    "tags": []
   },
   "outputs": [
    {
     "data": {
      "text/plain": [
       "0"
      ]
     },
     "execution_count": 8,
     "metadata": {},
     "output_type": "execute_result"
    }
   ],
   "source": [
    "#cleanup memory before heavy training\n",
    "import gc\n",
    "gc.collect()"
   ]
  },
  {
   "cell_type": "code",
   "execution_count": 9,
   "id": "5d9ac8c0",
   "metadata": {
    "execution": {
     "iopub.execute_input": "2024-01-19T13:43:07.020278Z",
     "iopub.status.busy": "2024-01-19T13:43:07.019982Z",
     "iopub.status.idle": "2024-01-19T13:43:07.024256Z",
     "shell.execute_reply": "2024-01-19T13:43:07.023465Z"
    },
    "papermill": {
     "duration": 0.012333,
     "end_time": "2024-01-19T13:43:07.026047",
     "exception": false,
     "start_time": "2024-01-19T13:43:07.013714",
     "status": "completed"
    },
    "tags": []
   },
   "outputs": [],
   "source": [
    "# create pytorch dataloader for batch training\n",
    "train_loader =  DataLoader(train_ds, batch_size=BATCH_SIZE, shuffle=True)\n",
    "val_loader =  DataLoader(test_ds, batch_size=BATCH_SIZE) # val_loader doesn't requires shuffling"
   ]
  },
  {
   "cell_type": "code",
   "execution_count": 10,
   "id": "72aaeb49",
   "metadata": {
    "execution": {
     "iopub.execute_input": "2024-01-19T13:43:07.037735Z",
     "iopub.status.busy": "2024-01-19T13:43:07.037470Z",
     "iopub.status.idle": "2024-01-19T13:43:09.701445Z",
     "shell.execute_reply": "2024-01-19T13:43:09.700612Z"
    },
    "papermill": {
     "duration": 2.672333,
     "end_time": "2024-01-19T13:43:09.703801",
     "exception": false,
     "start_time": "2024-01-19T13:43:07.031468",
     "status": "completed"
    },
    "tags": []
   },
   "outputs": [
    {
     "name": "stderr",
     "output_type": "stream",
     "text": [
      "Downloading: \"https://github.com/pytorch/vision/zipball/v0.10.0\" to /root/.cache/torch/hub/v0.10.0.zip\n",
      "Downloading: \"https://download.pytorch.org/models/resnet50-11ad3fa6.pth\" to /root/.cache/torch/hub/checkpoints/resnet50-11ad3fa6.pth\n",
      "100%|██████████| 97.8M/97.8M [00:00<00:00, 220MB/s]\n"
     ]
    }
   ],
   "source": [
    "# download pretrained model(Resnet50) from torchhub for finetuning to garbage image data\n",
    "model = torch.hub.load('pytorch/vision:v0.10.0', 'resnet50', weights=\"IMAGENET1K_V2\")\n",
    "model = model.eval()"
   ]
  },
  {
   "cell_type": "code",
   "execution_count": 11,
   "id": "703f5894",
   "metadata": {
    "execution": {
     "iopub.execute_input": "2024-01-19T13:43:09.717587Z",
     "iopub.status.busy": "2024-01-19T13:43:09.717095Z",
     "iopub.status.idle": "2024-01-19T13:43:09.722689Z",
     "shell.execute_reply": "2024-01-19T13:43:09.721828Z"
    },
    "papermill": {
     "duration": 0.014311,
     "end_time": "2024-01-19T13:43:09.724480",
     "exception": false,
     "start_time": "2024-01-19T13:43:09.710169",
     "status": "completed"
    },
    "tags": []
   },
   "outputs": [
    {
     "data": {
      "text/plain": [
       "2048"
      ]
     },
     "execution_count": 11,
     "metadata": {},
     "output_type": "execute_result"
    }
   ],
   "source": [
    "# need to change classifier head, so get number of input features for it\n",
    "num_ftrs = model.fc.in_features\n",
    "num_ftrs"
   ]
  },
  {
   "cell_type": "code",
   "execution_count": 12,
   "id": "a4f53d7b",
   "metadata": {
    "execution": {
     "iopub.execute_input": "2024-01-19T13:43:09.737873Z",
     "iopub.status.busy": "2024-01-19T13:43:09.737629Z",
     "iopub.status.idle": "2024-01-19T13:43:09.742248Z",
     "shell.execute_reply": "2024-01-19T13:43:09.741568Z"
    },
    "papermill": {
     "duration": 0.013456,
     "end_time": "2024-01-19T13:43:09.744029",
     "exception": false,
     "start_time": "2024-01-19T13:43:09.730573",
     "status": "completed"
    },
    "tags": []
   },
   "outputs": [],
   "source": [
    "# update classifier head to adjust to according to number of classes in our dataset\n",
    "model.fc = nn.Linear(num_ftrs,len(cs))"
   ]
  },
  {
   "cell_type": "code",
   "execution_count": 13,
   "id": "3a3f0851",
   "metadata": {
    "execution": {
     "iopub.execute_input": "2024-01-19T13:43:09.757309Z",
     "iopub.status.busy": "2024-01-19T13:43:09.757069Z",
     "iopub.status.idle": "2024-01-19T13:43:09.770630Z",
     "shell.execute_reply": "2024-01-19T13:43:09.769766Z"
    },
    "papermill": {
     "duration": 0.022579,
     "end_time": "2024-01-19T13:43:09.772682",
     "exception": false,
     "start_time": "2024-01-19T13:43:09.750103",
     "status": "completed"
    },
    "tags": []
   },
   "outputs": [],
   "source": [
    "def train(model,EPOCHS,train_loader,val_loader, lr = 0.001):\n",
    "\n",
    "    #define training device (gpu/cpu) and total number of batches\n",
    "    device = torch.device(\"cuda\" if torch.cuda.is_available() else \"cpu\")\n",
    "    batch_n = len(train_loader)\n",
    "\n",
    "    # define loss function, optimizer and move model to cuda if available\n",
    "    criterion = nn.CrossEntropyLoss()\n",
    "    optimizer = optim.Adam(model.parameters(), lr=lr)\n",
    "    model = model.to(device)\n",
    "\n",
    "    # lists to record histories\n",
    "    train_acc = []\n",
    "    train_loss = []\n",
    "    val_loss = [99]\n",
    "    val_acc = [0]\n",
    "\n",
    "    for epoch in range(EPOCHS):\n",
    "        model.train(True)\n",
    "        pbar = tqdm(train_loader)\n",
    "\n",
    "        batch_loss = []\n",
    "        batch_acc = []\n",
    "\n",
    "        for i,data in enumerate(pbar):\n",
    "            inputs,labels = data\n",
    "            inputs = inputs.to(device)\n",
    "            labels = labels.to(device)\n",
    "\n",
    "            optimizer.zero_grad()\n",
    "\n",
    "            # Make predictions for this batch\n",
    "            outputs = model(inputs)\n",
    "            acc = (labels == outputs.argmax(dim=-1)).float().mean().item()\n",
    "            # Compute the loss and its gradients\n",
    "            loss = criterion(outputs, labels)\n",
    "            loss.backward()\n",
    "\n",
    "            batch_loss.append(loss.item())\n",
    "            batch_acc.append(acc)\n",
    "            # Adjust learning weights\n",
    "            optimizer.step()\n",
    "\n",
    "            pbar.set_description(f\"Epoch: {epoch + 1}/{EPOCHS}; Train Loss: {round(np.mean(batch_loss),3)}; Train Acc: {round(np.mean(batch_acc),3)};\\\n",
    "            Val Loss: {round(np.mean(val_loss),3)}; Val Acc: {round(np.mean(val_acc),3)}\")\n",
    "\n",
    "          # Set the model to evaluation mode, disabling dropout and using population\n",
    "          # statistics for batch normalization.\n",
    "        model.eval()\n",
    "        # Disable gradient computation and reduce memory consumption.\n",
    "        with torch.no_grad():\n",
    "            val_batch_loss = []\n",
    "            val_batch_acc = []\n",
    "            for i, vdata in enumerate(val_loader):\n",
    "                vinputs, vlabels = vdata\n",
    "                vinputs = vinputs.to(device)\n",
    "                vlabels = vlabels.to(device)\n",
    "                voutputs = model(vinputs)\n",
    "                test_acc = (vlabels == voutputs.argmax(dim=-1)).float().mean().item()\n",
    "                vloss = criterion(voutputs, vlabels).item()\n",
    "\n",
    "                val_batch_loss.append(vloss)\n",
    "                val_batch_acc.append(test_acc)\n",
    "\n",
    "        val_loss.append(np.mean(val_batch_loss))\n",
    "        val_acc.append(np.mean(val_batch_acc))\n",
    "        train_acc.append(np.mean(batch_acc))\n",
    "        train_loss.append(np.mean(batch_loss))\n",
    "\n",
    "    return train_acc,train_loss,val_acc,val_loss"
   ]
  },
  {
   "cell_type": "code",
   "execution_count": 14,
   "id": "f0578591",
   "metadata": {
    "execution": {
     "iopub.execute_input": "2024-01-19T13:43:09.785989Z",
     "iopub.status.busy": "2024-01-19T13:43:09.785725Z",
     "iopub.status.idle": "2024-01-19T13:43:09.789274Z",
     "shell.execute_reply": "2024-01-19T13:43:09.788599Z"
    },
    "papermill": {
     "duration": 0.012415,
     "end_time": "2024-01-19T13:43:09.791131",
     "exception": false,
     "start_time": "2024-01-19T13:43:09.778716",
     "status": "completed"
    },
    "tags": []
   },
   "outputs": [],
   "source": [
    "EPOCHS = 10"
   ]
  },
  {
   "cell_type": "code",
   "execution_count": 15,
   "id": "2501dec7",
   "metadata": {
    "execution": {
     "iopub.execute_input": "2024-01-19T13:43:09.805204Z",
     "iopub.status.busy": "2024-01-19T13:43:09.804928Z",
     "iopub.status.idle": "2024-01-19T14:58:44.834630Z",
     "shell.execute_reply": "2024-01-19T14:58:44.833797Z"
    },
    "papermill": {
     "duration": 4535.039031,
     "end_time": "2024-01-19T14:58:44.837160",
     "exception": false,
     "start_time": "2024-01-19T13:43:09.798129",
     "status": "completed"
    },
    "tags": []
   },
   "outputs": [
    {
     "name": "stderr",
     "output_type": "stream",
     "text": [
      "Epoch: 1/10; Train Loss: 0.16; Train Acc: 0.941;            Val Loss: 99.0; Val Acc: 0.0: 100%|██████████| 706/706 [08:08<00:00,  1.44it/s]\n",
      "Epoch: 2/10; Train Loss: 0.079; Train Acc: 0.971;            Val Loss: 49.591; Val Acc: 0.468: 100%|██████████| 706/706 [07:03<00:00,  1.67it/s]\n",
      "Epoch: 3/10; Train Loss: 0.051; Train Acc: 0.983;            Val Loss: 33.146; Val Acc: 0.617: 100%|██████████| 706/706 [07:00<00:00,  1.68it/s]\n",
      "Epoch: 4/10; Train Loss: 0.036; Train Acc: 0.986;            Val Loss: 24.924; Val Acc: 0.694: 100%|██████████| 706/706 [07:00<00:00,  1.68it/s]\n",
      "Epoch: 5/10; Train Loss: 0.029; Train Acc: 0.99;            Val Loss: 20.012; Val Acc: 0.734: 100%|██████████| 706/706 [07:03<00:00,  1.67it/s]\n",
      "Epoch: 6/10; Train Loss: 0.027; Train Acc: 0.992;            Val Loss: 16.732; Val Acc: 0.761: 100%|██████████| 706/706 [07:01<00:00,  1.67it/s]\n",
      "Epoch: 7/10; Train Loss: 0.019; Train Acc: 0.994;            Val Loss: 14.384; Val Acc: 0.784: 100%|██████████| 706/706 [07:02<00:00,  1.67it/s]\n",
      "Epoch: 8/10; Train Loss: 0.017; Train Acc: 0.994;            Val Loss: 12.623; Val Acc: 0.801: 100%|██████████| 706/706 [07:03<00:00,  1.67it/s]\n",
      "Epoch: 9/10; Train Loss: 0.022; Train Acc: 0.993;            Val Loss: 11.275; Val Acc: 0.812: 100%|██████████| 706/706 [07:04<00:00,  1.66it/s]\n",
      "Epoch: 10/10; Train Loss: 0.019; Train Acc: 0.993;            Val Loss: 10.188; Val Acc: 0.82: 100%|██████████| 706/706 [07:06<00:00,  1.65it/s]\n"
     ]
    }
   ],
   "source": [
    "train_acc,train_loss,val_acc,val_loss = train(model,EPOCHS,train_loader,val_loader,lr=1e-4)"
   ]
  },
  {
   "cell_type": "code",
   "execution_count": 16,
   "id": "312aa697",
   "metadata": {
    "execution": {
     "iopub.execute_input": "2024-01-19T14:58:47.185712Z",
     "iopub.status.busy": "2024-01-19T14:58:47.185335Z",
     "iopub.status.idle": "2024-01-19T14:58:47.336171Z",
     "shell.execute_reply": "2024-01-19T14:58:47.335136Z"
    },
    "papermill": {
     "duration": 1.344841,
     "end_time": "2024-01-19T14:58:47.338472",
     "exception": false,
     "start_time": "2024-01-19T14:58:45.993631",
     "status": "completed"
    },
    "tags": []
   },
   "outputs": [],
   "source": [
    "torch.save(model.state_dict(), \"garbage.pt\")"
   ]
  },
  {
   "cell_type": "code",
   "execution_count": 17,
   "id": "73b40ec2",
   "metadata": {
    "execution": {
     "iopub.execute_input": "2024-01-19T14:58:49.645094Z",
     "iopub.status.busy": "2024-01-19T14:58:49.644740Z",
     "iopub.status.idle": "2024-01-19T14:58:49.751465Z",
     "shell.execute_reply": "2024-01-19T14:58:49.750618Z"
    },
    "papermill": {
     "duration": 1.289804,
     "end_time": "2024-01-19T14:58:49.753380",
     "exception": false,
     "start_time": "2024-01-19T14:58:48.463576",
     "status": "completed"
    },
    "tags": []
   },
   "outputs": [
    {
     "data": {
      "text/plain": [
       "0"
      ]
     },
     "execution_count": 17,
     "metadata": {},
     "output_type": "execute_result"
    }
   ],
   "source": [
    "import gc\n",
    "gc.collect()"
   ]
  },
  {
   "cell_type": "markdown",
   "id": "ed20de9a-7c8e-49f4-9550-19e3b3b05954",
   "metadata": {
    "papermill": {
     "duration": 1.138114,
     "end_time": "2024-01-19T14:58:52.074619",
     "exception": false,
     "start_time": "2024-01-19T14:58:50.936505",
     "status": "completed"
    },
    "tags": []
   },
   "source": [
    "### :)) No time for EDA and VIZS"
   ]
  },
  {
   "cell_type": "code",
   "execution_count": null,
   "id": "cb2b2df1-1132-4db5-b63c-b3b3a651dab1",
   "metadata": {},
   "outputs": [],
   "source": []
  }
 ],
 "metadata": {
  "kaggle": {
   "accelerator": "gpu",
   "dataSources": [
    {
     "datasetId": 233210,
     "sourceId": 497253,
     "sourceType": "datasetVersion"
    }
   ],
   "dockerImageVersionId": 30636,
   "isGpuEnabled": true,
   "isInternetEnabled": true,
   "language": "python",
   "sourceType": "notebook"
  },
  "kernelspec": {
   "display_name": "Python 3 (ipykernel)",
   "language": "python",
   "name": "python3"
  },
  "language_info": {
   "codemirror_mode": {
    "name": "ipython",
    "version": 3
   },
   "file_extension": ".py",
   "mimetype": "text/x-python",
   "name": "python",
   "nbconvert_exporter": "python",
   "pygments_lexer": "ipython3",
   "version": "3.11.6"
  },
  "papermill": {
   "default_parameters": {},
   "duration": 4571.547795,
   "end_time": "2024-01-19T14:58:55.466837",
   "environment_variables": {},
   "exception": null,
   "input_path": "__notebook__.ipynb",
   "output_path": "__notebook__.ipynb",
   "parameters": {},
   "start_time": "2024-01-19T13:42:43.919042",
   "version": "2.4.0"
  }
 },
 "nbformat": 4,
 "nbformat_minor": 5
}
